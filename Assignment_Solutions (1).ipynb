{
 "cells": [
  {
   "cell_type": "code",
   "execution_count": null,
   "id": "b3647fcc",
   "metadata": {},
   "outputs": [],
   "source": [
    "import numpy as np\n",
    "\n",
    "# Create a 3D array\n",
    "array_3d = np.random.randint(1, 101, size=(4, 4, 4))\n",
    "\n",
    "# Calculate Z-score normalization\n",
    "mean = np.mean(array_3d)\n",
    "std = np.std(array_3d)\n",
    "z_normalized = (array_3d - mean) / std\n",
    "\n",
    "print(\"Original Array:\\n\", array_3d)\n",
    "print(\"\\nZ-score Normalized Array:\\n\", z_normalized)"
   ]
  },
  {
   "cell_type": "code",
   "execution_count": null,
   "id": "00e4d1e7",
   "metadata": {},
   "outputs": [],
   "source": [
    "import pandas as pd\n",
    "\n",
    "# Load the Iris dataset\n",
    "iris = pd.read_csv(\"https://raw.githubusercontent.com/mwaskom/seaborn-data/master/iris.csv\")\n",
    "\n",
    "# Filter rows where petal length > 3.0\n",
    "filtered_iris = iris[iris[\"petal_length\"] > 3.0]\n",
    "print(filtered_iris)"
   ]
  },
  {
   "cell_type": "code",
   "execution_count": null,
   "id": "556ad311",
   "metadata": {},
   "outputs": [],
   "source": [
    "import matplotlib.pyplot as plt\n",
    "\n",
    "# Sample dataset\n",
    "x = [1, 2, 3, 4, 5]\n",
    "y = [2, 4, 6, 8, 10]\n",
    "\n",
    "# Plotting the graph\n",
    "plt.plot(x, y, label='Line Trend')\n",
    "plt.title(\"Sample Line Graph\")\n",
    "plt.xlabel(\"X-axis\")\n",
    "plt.ylabel(\"Y-axis\")\n",
    "plt.legend()\n",
    "plt.show()"
   ]
  },
  {
   "cell_type": "code",
   "execution_count": null,
   "id": "66e7ffcb",
   "metadata": {},
   "outputs": [],
   "source": [
    "import pandas as pd\n",
    "import numpy as np\n",
    "\n",
    "# Create a DataFrame\n",
    "data = {\n",
    "    \"A\": [np.nan, 2, 3, np.nan],\n",
    "    \"B\": [4, np.nan, 6, 7],\n",
    "    \"C\": [8, 9, np.nan, 11]\n",
    "}\n",
    "df = pd.DataFrame(data)\n",
    "\n",
    "# Replace NaN with column mean\n",
    "df.fillna(df.mean(), inplace=True)\n",
    "\n",
    "# Sort by two columns\n",
    "sorted_df = df.sort_values(by=[\"A\", \"B\"])\n",
    "\n",
    "print(\"DataFrame after replacing NaN values:\\n\", df)\n",
    "print(\"\\nDataFrame after sorting:\\n\", sorted_df)"
   ]
  }
 ],
 "metadata": {},
 "nbformat": 4,
 "nbformat_minor": 5
}
